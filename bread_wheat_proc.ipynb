{
 "cells": [
  {
   "cell_type": "code",
   "execution_count": null,
   "id": "76fee550-bfdb-406a-baff-42ffdaaf1558",
   "metadata": {},
   "outputs": [
    {
     "name": "stdout",
     "output_type": "stream",
     "text": [
      "Academic tradition requires you to cite works you base your article on.\n",
      "When using programs that use GNU Parallel to process data for publication\n",
      "please cite:\n",
      "\n",
      "  O. Tange (2011): GNU Parallel - The Command-Line Power Tool,\n",
      "  ;login: The USENIX Magazine, February 2011:42-47.\n",
      "\n",
      "This helps funding further development; AND IT WON'T COST YOU A CENT.\n",
      "If you pay 10000 EUR you should feel free to use GNU Parallel without citing.\n",
      "\n",
      "To silence the citation notice: run 'parallel --citation'.\n",
      "\n"
     ]
    }
   ],
   "source": [
    "!freebayes-parallel \\\n",
    "<(fasta_generate_regions.py /home/amogus/bread_wheat/reference/CS_v2.1.fna.fai 1000000) 17 \\\n",
    "-f /home/amogus/bread_wheat/reference/CS_v2.1.fna \\\n",
    "-n 4 --min-alternate-qsum 30 --min-coverage 10 --limit-coverage 1000 \\\n",
    "--binomial-obs-priors-off --allele-balance-priors-off --ploidy 2 --hwe-priors-off --no-population-priors \\\n",
    "merge_bowtie2/bread_wheat_merge.bam > freebayes/bread_wheat.vcf\n"
   ]
  },
  {
   "cell_type": "code",
   "execution_count": 108,
   "id": "f2f74ffe-dd73-4897-a809-dd93c6f71f04",
   "metadata": {},
   "outputs": [],
   "source": [
    "!samtools index -c YGS_merged_with_bad.bam -@ 10"
   ]
  },
  {
   "cell_type": "markdown",
   "id": "3e9f7361-2eea-4665-b7ba-dc234d31366c",
   "metadata": {},
   "source": [
    "## START FILTERING"
   ]
  },
  {
   "cell_type": "code",
   "execution_count": 1,
   "id": "29c04c79-e48d-4c63-b4c7-e0a4396121d9",
   "metadata": {
    "scrolled": true
   },
   "outputs": [
    {
     "name": "stdout",
     "output_type": "stream",
     "text": [
      "PLINK v2.00a5.12LM 64-bit Intel (25 Jun 2024)  www.cog-genomics.org/plink/2.0/\n",
      "(C) 2005-2024 Shaun Purcell, Christopher Chang   GNU General Public License v3\n",
      "Logging to filt/bread_snps.log.\n",
      "Options in effect:\n",
      "  --allow-extra-chr\n",
      "  --export vcf\n",
      "  --max-alleles 2\n",
      "  --min-alleles 2\n",
      "  --out filt/bread_snps\n",
      "  --snps-only\n",
      "  --vcf freebayes/bread_wheat.vcf\n",
      "\n",
      "Start time: Wed Oct 23 10:53:27 2024\n",
      "64239 MiB RAM detected, ~49750 available; reserving 32119 MiB for main\n",
      "workspace.\n",
      "Using up to 24 threads (change this with --threads).\n",
      "--vcf: 4287075 variants scanned.\n",
      "--vcf: filt/bread_snps-temporary.pgen + filt/bread_snps-temporary.pvar.zst +\n",
      "filt/bread_snps-temporary.psam written.\n",
      "183 samples (0 females, 0 males, 183 ambiguous; 183 founders) loaded from\n",
      "filt/bread_snps-temporary.psam.\n",
      "3811623 out of 4287075 variants loaded from filt/bread_snps-temporary.pvar.zst.\n",
      "Note: No phenotype data present.\n",
      "3811623 variants remaining after main filters.\n",
      "--export vcf to filt/bread_snps.vcf ... 1010111112121313141415151616171718181919202021212222232324242525262627272828292930303131323233333434353536363737383839394040414142424343444445454646474748484949505051515252535354545555565657575858595960606161626263636464656566666767686869697070717172727373747475757676777778787979808081818282838384848585868687878888898990909191929293939494959596969797989899done.\n",
      "End time: Wed Oct 23 10:53:59 2024\n"
     ]
    }
   ],
   "source": [
    "!plink2 --vcf freebayes/bread_wheat.vcf --allow-extra-chr --snps-only --max-alleles 2 \\\n",
    "--min-alleles 2 --export vcf --out filt/bread_snps"
   ]
  },
  {
   "cell_type": "code",
   "execution_count": 2,
   "id": "6179fdf7-f9e6-4a56-8c98-fa6fa11b88b2",
   "metadata": {},
   "outputs": [
    {
     "name": "stdout",
     "output_type": "stream",
     "text": [
      "3811623\n"
     ]
    }
   ],
   "source": [
    "!grep -v \"#\" -c  filt/bread_snps.vcf"
   ]
  },
  {
   "cell_type": "code",
   "execution_count": 3,
   "id": "dfd6b872-f6e4-4f06-9ba1-97e5057ec43b",
   "metadata": {},
   "outputs": [
    {
     "name": "stdout",
     "output_type": "stream",
     "text": [
      "4287075\n"
     ]
    }
   ],
   "source": [
    "!grep -v \"#\" -c freebayes/bread_wheat.vcf"
   ]
  },
  {
   "cell_type": "code",
   "execution_count": 4,
   "id": "b0b63f87-e8cf-402c-ad35-a356bf257b8c",
   "metadata": {},
   "outputs": [],
   "source": [
    "!sed -i 's/^##fileformat=VCFv4.3/##fileformat=VCFv4.2/' filt/bread_snps.vcf"
   ]
  },
  {
   "cell_type": "markdown",
   "id": "691afae8-3c9a-49bd-a0a0-9a2e57cb6e9e",
   "metadata": {},
   "source": [
    "## missing site for raw data"
   ]
  },
  {
   "cell_type": "code",
   "execution_count": null,
   "id": "7cfb0fff-dc02-4ee7-96db-a5e8a99d599c",
   "metadata": {
    "scrolled": true
   },
   "outputs": [
    {
     "name": "stdout",
     "output_type": "stream",
     "text": [
      "\n",
      "VCFtools - 0.1.16\n",
      "(C) Adam Auton and Anthony Marcketta 2009\n",
      "\n",
      "Parameters as interpreted:\n",
      "\t--vcf filt/bread_snps.vcf\n",
      "\t--out filt/missrate_raw\n",
      "\t--missing-site\n",
      "\n",
      "Warning: Expected at least 2 parts in INFO entry: ID=AF,Number=A,Type=Float,Description=\"Estimated allele frequency in the range (0,1]\">\n",
      "Warning: Expected at least 2 parts in INFO entry: ID=PRO,Number=1,Type=Float,Description=\"Reference allele observation count, with partial observations recorded fractionally\">\n",
      "Warning: Expected at least 2 parts in INFO entry: ID=PAO,Number=A,Type=Float,Description=\"Alternate allele observations, with partial observations recorded fractionally\">\n",
      "Warning: Expected at least 2 parts in INFO entry: ID=SRP,Number=1,Type=Float,Description=\"Strand balance probability for the reference allele: Phred-scaled upper-bounds estimate of the probability of observing the deviation between SRF and SRR given E(SRF/SRR) ~ 0.5, derived using Hoeffding's inequality\">\n",
      "Warning: Expected at least 2 parts in INFO entry: ID=SAP,Number=A,Type=Float,Description=\"Strand balance probability for the alternate allele: Phred-scaled upper-bounds estimate of the probability of observing the deviation between SAF and SAR given E(SAF/SAR) ~ 0.5, derived using Hoeffding's inequality\">\n",
      "Warning: Expected at least 2 parts in INFO entry: ID=AB,Number=A,Type=Float,Description=\"Allele balance at heterozygous sites: a number between 0 and 1 representing the ratio of reads showing the reference allele to all reads, considering only reads from individuals called as heterozygous\">\n",
      "Warning: Expected at least 2 parts in INFO entry: ID=ABP,Number=A,Type=Float,Description=\"Allele balance probability at heterozygous sites: Phred-scaled upper-bounds estimate of the probability of observing the deviation between ABR and ABA given E(ABR/ABA) ~ 0.5, derived using Hoeffding's inequality\">\n",
      "Warning: Expected at least 2 parts in INFO entry: ID=RPP,Number=A,Type=Float,Description=\"Read Placement Probability: Phred-scaled upper-bounds estimate of the probability of observing the deviation between RPL and RPR given E(RPL/RPR) ~ 0.5, derived using Hoeffding's inequality\">\n",
      "Warning: Expected at least 2 parts in INFO entry: ID=RPPR,Number=1,Type=Float,Description=\"Read Placement Probability for reference observations: Phred-scaled upper-bounds estimate of the probability of observing the deviation between RPL and RPR given E(RPL/RPR) ~ 0.5, derived using Hoeffding's inequality\">\n",
      "Warning: Expected at least 2 parts in INFO entry: ID=EPP,Number=A,Type=Float,Description=\"End Placement Probability: Phred-scaled upper-bounds estimate of the probability of observing the deviation between EL and ER given E(EL/ER) ~ 0.5, derived using Hoeffding's inequality\">\n",
      "Warning: Expected at least 2 parts in INFO entry: ID=EPPR,Number=1,Type=Float,Description=\"End Placement Probability for reference observations: Phred-scaled upper-bounds estimate of the probability of observing the deviation between EL and ER given E(EL/ER) ~ 0.5, derived using Hoeffding's inequality\">\n",
      "Warning: Expected at least 2 parts in INFO entry: ID=TYPE,Number=A,Type=String,Description=\"The type of allele, either snp, mnp, ins, del, or complex.\">\n",
      "Warning: Expected at least 2 parts in INFO entry: ID=TYPE,Number=A,Type=String,Description=\"The type of allele, either snp, mnp, ins, del, or complex.\">\n",
      "Warning: Expected at least 2 parts in INFO entry: ID=TYPE,Number=A,Type=String,Description=\"The type of allele, either snp, mnp, ins, del, or complex.\">\n",
      "Warning: Expected at least 2 parts in INFO entry: ID=TYPE,Number=A,Type=String,Description=\"The type of allele, either snp, mnp, ins, del, or complex.\">\n",
      "Warning: Expected at least 2 parts in INFO entry: ID=TYPE,Number=A,Type=String,Description=\"The type of allele, either snp, mnp, ins, del, or complex.\">\n",
      "Warning: Expected at least 2 parts in INFO entry: ID=CIGAR,Number=A,Type=String,Description=\"The extended CIGAR representation of each alternate allele, with the exception that '=' is replaced by 'M' to ease VCF parsing.  Note that INDEL alleles do not have the first matched base (which is provided by default, per the spec) referred to by the CIGAR.\">\n",
      "After filtering, kept 183 out of 183 Individuals\n",
      "Outputting Site Missingness\n"
     ]
    }
   ],
   "source": [
    "!vcftools --vcf filt/bread_snps.vcf --missing-site --out filt/missrate_raw"
   ]
  },
  {
   "cell_type": "code",
   "execution_count": 8,
   "id": "46378f22-6ec7-4ab6-86ee-8ca50434fd7c",
   "metadata": {},
   "outputs": [
    {
     "data": {
      "image/png": "[encoded data removed]",
      "text/plain": [
       "<Figure size 640x480 with 1 Axes>"
      ]
     },
     "metadata": {},
     "output_type": "display_data"
    }
   ],
   "source": [
    "import numpy as np\n",
    "import matplotlib.pyplot as plt\n",
    "\n",
    "# Загрузим данные из файла\n",
    "data = np.genfromtxt('filt/missrate_raw.lmiss', delimiter='\\t', skip_header=1, usecols=-1)\n",
    "\n",
    "# Построим гистограмму с 100 бинами\n",
    "plt.hist(data, bins=100, edgecolor='black')\n",
    "\n",
    "# Добавим подписи к осям и заголовок\n",
    "#plt.xlabel('% of Missing Data (F_MISS)')\n",
    "plt.ylabel('Количество вариантов')\n",
    "plt.xlabel('Доля пропущенных данных для каждого варианта')\n",
    "plt.axvline(x=0.4, color='red', linestyle='--', linewidth=2)\n",
    "# Отобразим гистограмму\n",
    "plt.show()\n"
   ]
  },
  {
   "cell_type": "code",
   "execution_count": 9,
   "id": "96f98f36-f707-422f-b408-2522f34d09f6",
   "metadata": {},
   "outputs": [
    {
     "name": "stdout",
     "output_type": "stream",
     "text": [
      "PLINK v2.00a5.12LM 64-bit Intel (25 Jun 2024)  www.cog-genomics.org/plink/2.0/\n",
      "(C) 2005-2024 Shaun Purcell, Christopher Chang   GNU General Public License v3\n",
      "Logging to filt/bread_snps_04geno.log.\n",
      "Options in effect:\n",
      "  --allow-extra-chr\n",
      "  --export vcf\n",
      "  --geno 0.4\n",
      "  --out filt/bread_snps_04geno\n",
      "  --vcf filt/bread_snps.vcf\n",
      "\n",
      "Start time: Wed Oct 23 11:01:47 2024\n",
      "64239 MiB RAM detected, ~49539 available; reserving 32119 MiB for main\n",
      "workspace.\n",
      "Using up to 24 threads (change this with --threads).\n",
      "--vcf: 3811623 variants scanned.\n",
      "--vcf: filt/bread_snps_04geno-temporary.pgen +\n",
      "filt/bread_snps_04geno-temporary.pvar.zst +\n",
      "filt/bread_snps_04geno-temporary.psam written.\n",
      "183 samples (0 females, 0 males, 183 ambiguous; 183 founders) loaded from\n",
      "filt/bread_snps_04geno-temporary.psam.\n",
      "3811623 variants loaded from filt/bread_snps_04geno-temporary.pvar.zst.\n",
      "Note: No phenotype data present.\n",
      "Calculating allele frequencies... 1012131517182022242527293032343637394142444648495153555658606163656768707273757779808284858789919294969899done.\n",
      "--geno: 2615497 variants removed due to missing genotype data.\n",
      "1196126 variants remaining after main filters.\n",
      "--export vcf to filt/bread_snps_04geno.vcf ... 10101111121213131414151516161717181819192020212122222323242425252626272728282929303031313232333334343535363637373838393940404141424243434444454546464747484849505051515252535354545555565657575858595960606161626263636464656566666767686869697070717172727373747475757676777778787979808081818282838384848585868687878888898990909191929293939494959596969797989899done.\n",
      "End time: Wed Oct 23 11:02:08 2024\n"
     ]
    }
   ],
   "source": [
    "!plink2 --vcf filt/bread_snps.vcf  --out filt/bread_snps_04geno \\\n",
    "--allow-extra-chr --geno 0.4 --export vcf"
   ]
  },
  {
   "cell_type": "code",
   "execution_count": 11,
   "id": "0928133a-c4bf-4107-8648-5abdf86a3f97",
   "metadata": {},
   "outputs": [
    {
     "name": "stdout",
     "output_type": "stream",
     "text": [
      "1196126\n"
     ]
    }
   ],
   "source": [
    "!grep -c -v \"#\" filt/bread_snps_04geno.vcf "
   ]
  },
  {
   "cell_type": "code",
   "execution_count": 10,
   "id": "118ddf3d-160b-4a1a-9f92-480bcb1f3cc7",
   "metadata": {},
   "outputs": [],
   "source": [
    "!sed -i 's/^##fileformat=VCFv4.3/##fileformat=VCFv4.2/' filt/bread_snps_04geno.vcf"
   ]
  },
  {
   "cell_type": "markdown",
   "id": "448a1345-6a56-443d-9594-26d6ae2be55d",
   "metadata": {},
   "source": [
    "## missing individs for raw data"
   ]
  },
  {
   "cell_type": "code",
   "execution_count": 14,
   "id": "ecf4ae17-1a93-4ca0-ab3d-3e110c44e79f",
   "metadata": {
    "scrolled": true
   },
   "outputs": [
    {
     "name": "stdout",
     "output_type": "stream",
     "text": [
      "\n",
      "VCFtools - 0.1.16\n",
      "(C) Adam Auton and Anthony Marcketta 2009\n",
      "\n",
      "Parameters as interpreted:\n",
      "\t--vcf filt/bread_snps.vcf\n",
      "\t--missing-indv\n",
      "\t--out filt/missrate_mind_raw\n",
      "\n",
      "Warning: Expected at least 2 parts in INFO entry: ID=AF,Number=A,Type=Float,Description=\"Estimated allele frequency in the range (0,1]\">\n",
      "Warning: Expected at least 2 parts in INFO entry: ID=PRO,Number=1,Type=Float,Description=\"Reference allele observation count, with partial observations recorded fractionally\">\n",
      "Warning: Expected at least 2 parts in INFO entry: ID=PAO,Number=A,Type=Float,Description=\"Alternate allele observations, with partial observations recorded fractionally\">\n",
      "Warning: Expected at least 2 parts in INFO entry: ID=SRP,Number=1,Type=Float,Description=\"Strand balance probability for the reference allele: Phred-scaled upper-bounds estimate of the probability of observing the deviation between SRF and SRR given E(SRF/SRR) ~ 0.5, derived using Hoeffding's inequality\">\n",
      "Warning: Expected at least 2 parts in INFO entry: ID=SAP,Number=A,Type=Float,Description=\"Strand balance probability for the alternate allele: Phred-scaled upper-bounds estimate of the probability of observing the deviation between SAF and SAR given E(SAF/SAR) ~ 0.5, derived using Hoeffding's inequality\">\n",
      "Warning: Expected at least 2 parts in INFO entry: ID=AB,Number=A,Type=Float,Description=\"Allele balance at heterozygous sites: a number between 0 and 1 representing the ratio of reads showing the reference allele to all reads, considering only reads from individuals called as heterozygous\">\n",
      "Warning: Expected at least 2 parts in INFO entry: ID=ABP,Number=A,Type=Float,Description=\"Allele balance probability at heterozygous sites: Phred-scaled upper-bounds estimate of the probability of observing the deviation between ABR and ABA given E(ABR/ABA) ~ 0.5, derived using Hoeffding's inequality\">\n",
      "Warning: Expected at least 2 parts in INFO entry: ID=RPP,Number=A,Type=Float,Description=\"Read Placement Probability: Phred-scaled upper-bounds estimate of the probability of observing the deviation between RPL and RPR given E(RPL/RPR) ~ 0.5, derived using Hoeffding's inequality\">\n",
      "Warning: Expected at least 2 parts in INFO entry: ID=RPPR,Number=1,Type=Float,Description=\"Read Placement Probability for reference observations: Phred-scaled upper-bounds estimate of the probability of observing the deviation between RPL and RPR given E(RPL/RPR) ~ 0.5, derived using Hoeffding's inequality\">\n",
      "Warning: Expected at least 2 parts in INFO entry: ID=EPP,Number=A,Type=Float,Description=\"End Placement Probability: Phred-scaled upper-bounds estimate of the probability of observing the deviation between EL and ER given E(EL/ER) ~ 0.5, derived using Hoeffding's inequality\">\n",
      "Warning: Expected at least 2 parts in INFO entry: ID=EPPR,Number=1,Type=Float,Description=\"End Placement Probability for reference observations: Phred-scaled upper-bounds estimate of the probability of observing the deviation between EL and ER given E(EL/ER) ~ 0.5, derived using Hoeffding's inequality\">\n",
      "Warning: Expected at least 2 parts in INFO entry: ID=TYPE,Number=A,Type=String,Description=\"The type of allele, either snp, mnp, ins, del, or complex.\">\n",
      "Warning: Expected at least 2 parts in INFO entry: ID=TYPE,Number=A,Type=String,Description=\"The type of allele, either snp, mnp, ins, del, or complex.\">\n",
      "Warning: Expected at least 2 parts in INFO entry: ID=TYPE,Number=A,Type=String,Description=\"The type of allele, either snp, mnp, ins, del, or complex.\">\n",
      "Warning: Expected at least 2 parts in INFO entry: ID=TYPE,Number=A,Type=String,Description=\"The type of allele, either snp, mnp, ins, del, or complex.\">\n",
      "Warning: Expected at least 2 parts in INFO entry: ID=TYPE,Number=A,Type=String,Description=\"The type of allele, either snp, mnp, ins, del, or complex.\">\n",
      "Warning: Expected at least 2 parts in INFO entry: ID=CIGAR,Number=A,Type=String,Description=\"The extended CIGAR representation of each alternate allele, with the exception that '=' is replaced by 'M' to ease VCF parsing.  Note that INDEL alleles do not have the first matched base (which is provided by default, per the spec) referred to by the CIGAR.\">\n",
      "After filtering, kept 183 out of 183 Individuals\n",
      "Outputting Individual Missingness\n",
      "After filtering, kept 3811623 out of a possible 3811623 Sites\n",
      "Run Time = 150.00 seconds\n"
     ]
    }
   ],
   "source": [
    "!vcftools --vcf filt/bread_snps.vcf --missing-indv --out filt/missrate_mind_raw"
   ]
  },
  {
   "cell_type": "code",
   "execution_count": 18,
   "id": "7de06951-f8eb-4329-8a31-f4302916c4bd",
   "metadata": {
    "scrolled": true
   },
   "outputs": [
    {
     "name": "stdout",
     "output_type": "stream",
     "text": [
      "INDV\tN_DATA\tN_GENOTYPES_FILTERED\tN_MISS\tF_MISS\n",
      "PAO_3_001\t3811623\t0\t2365277\t0.620543\n",
      "PAO_3_002\t3811623\t0\t3367518\t0.883487\n",
      "PAO_3_003\t3811623\t0\t2353207\t0.617377\n",
      "PAO_3_004\t3811623\t0\t1940325\t0.509055\n",
      "PAO_3_005\t3811623\t0\t2131930\t0.559323\n",
      "PAO_3_006\t3811623\t0\t2085987\t0.54727\n",
      "PAO_3_007\t3811623\t0\t1941035\t0.509241\n",
      "PAO_3_008\t3811623\t0\t1850886\t0.48559\n",
      "PAO_3_009\t3811623\t0\t2624302\t0.6885\n",
      "PAO_3_010\t3811623\t0\t3552330\t0.931973\n",
      "PAO_3_011\t3811623\t0\t2202513\t0.577841\n",
      "PAO_3_012\t3811623\t0\t1657221\t0.434781\n",
      "PAO_3_013\t3811623\t0\t2369793\t0.621728\n",
      "PAO_3_014\t3811623\t0\t2529428\t0.663609\n",
      "PAO_3_015\t3811623\t0\t2283833\t0.599176\n",
      "PAO_3_016\t3811623\t0\t2277571\t0.597533\n",
      "PAO_3_017\t3811623\t0\t2348037\t0.61602\n",
      "PAO_3_018\t3811623\t0\t3473235\t0.911222\n",
      "PAO_3_019\t3811623\t0\t2377249\t0.623684\n",
      "PAO_3_020\t3811623\t0\t3010407\t0.789797\n",
      "PAO_3_021\t3811623\t0\t2096228\t0.549957\n",
      "PAO_3_022\t3811623\t0\t2086544\t0.547416\n",
      "PAO_3_023\t3811623\t0\t1775703\t0.465865\n",
      "PAO_3_024\t3811623\t0\t2014702\t0.528568\n",
      "PAO_3_025\t3811623\t0\t1992531\t0.522751\n",
      "PAO_3_026\t3811623\t0\t3285130\t0.861872\n",
      "PAO_3_027\t3811623\t0\t2204606\t0.57839\n",
      "PAO_3_028\t3811623\t0\t1977220\t0.518734\n",
      "PAO_3_029\t3811623\t0\t1741147\t0.456799\n",
      "PAO_3_030\t3811623\t0\t1983436\t0.520365\n",
      "PAO_3_031\t3811623\t0\t1801454\t0.472621\n",
      "PAO_3_032\t3811623\t0\t1739674\t0.456413\n",
      "PAO_3_033\t3811623\t0\t2801812\t0.735071\n",
      "PAO_3_034\t3811623\t0\t3219088\t0.844545\n",
      "PAO_3_035\t3811623\t0\t3223759\t0.845771\n",
      "PAO_3_036\t3811623\t0\t2175675\t0.5708\n",
      "PAO_3_037\t3811623\t0\t1608351\t0.42196\n",
      "PAO_3_038\t3811623\t0\t1936814\t0.508134\n",
      "PAO_3_039\t3811623\t0\t2037676\t0.534595\n",
      "PAO_3_040\t3811623\t0\t1685302\t0.442148\n",
      "PAO_3_041\t3811623\t0\t2095443\t0.549751\n",
      "PAO_3_042\t3811623\t0\t3063698\t0.803778\n",
      "PAO_3_043\t3811623\t0\t2767102\t0.725964\n",
      "PAO_3_044\t3811623\t0\t1970713\t0.517027\n",
      "PAO_3_045\t3811623\t0\t2080143\t0.545737\n",
      "PAO_3_046\t3811623\t0\t2261841\t0.593406\n",
      "PAO_3_047\t3811623\t0\t1437366\t0.377101\n",
      "PAO_3_048\t3811623\t0\t1796323\t0.471275\n",
      "PAO_3_049\t3811623\t0\t2458241\t0.644933\n",
      "PAO_3_050\t3811623\t0\t2893509\t0.759128\n",
      "PAO_3_051\t3811623\t0\t2439469\t0.640008\n",
      "PAO_3_052\t3811623\t0\t2180273\t0.572006\n",
      "PAO_3_053\t3811623\t0\t2230970\t0.585307\n",
      "PAO_3_054\t3811623\t0\t2084211\t0.546804\n",
      "PAO_3_055\t3811623\t0\t2035264\t0.533963\n",
      "PAO_3_056\t3811623\t0\t2143873\t0.562457\n",
      "PAO_3_057\t3811623\t0\t2570311\t0.674335\n",
      "PAO_3_058\t3811623\t0\t3374705\t0.885372\n",
      "PAO_3_059\t3811623\t0\t2281303\t0.598512\n",
      "PAO_3_060\t3811623\t0\t2024054\t0.531022\n",
      "PAO_3_061\t3811623\t0\t1946098\t0.510569\n",
      "PAO_3_062\t3811623\t0\t2144046\t0.562502\n",
      "PAO_3_063\t3811623\t0\t2003995\t0.525759\n",
      "PAO_3_064\t3811623\t0\t2131159\t0.559121\n",
      "PAO_3_065\t3811623\t0\t2101840\t0.551429\n",
      "PAO_3_066\t3811623\t0\t3093420\t0.811576\n",
      "PAO_3_067\t3811623\t0\t2210234\t0.579867\n",
      "PAO_3_068\t3811623\t0\t1921273\t0.504056\n",
      "PAO_3_069\t3811623\t0\t2099846\t0.550906\n",
      "PAO_3_070\t3811623\t0\t2190818\t0.574773\n",
      "PAO_3_071\t3811623\t0\t1700547\t0.446148\n",
      "PAO_3_072\t3811623\t0\t2098995\t0.550683\n",
      "PAO_3_073\t3811623\t0\t3786734\t0.99347\n",
      "PAO_3_074\t3811623\t0\t3803380\t0.997837\n",
      "PAO_3_075\t3811623\t0\t3784469\t0.992876\n",
      "PAO_3_076\t3811623\t0\t3776376\t0.990753\n",
      "PAO_3_077\t3811623\t0\t3768897\t0.988791\n",
      "PAO_3_078\t3811623\t0\t3778228\t0.991239\n",
      "PAO_3_079\t3811623\t0\t3758086\t0.985954\n",
      "PAO_3_080\t3811623\t0\t3767651\t0.988464\n",
      "PAO_3_081\t3811623\t0\t2413447\t0.633181\n",
      "PAO_3_082\t3811623\t0\t3144323\t0.82493\n",
      "PAO_3_083\t3811623\t0\t2257333\t0.592224\n",
      "PAO_3_084\t3811623\t0\t2341681\t0.614353\n",
      "PAO_3_085\t3811623\t0\t2596569\t0.681224\n",
      "PAO_3_086\t3811623\t0\t2519193\t0.660924\n",
      "PAO_3_087\t3811623\t0\t2066953\t0.542276\n",
      "PAO_3_088\t3811623\t0\t2472435\t0.648657\n",
      "PAO_3_089\t3811623\t0\t2359675\t0.619074\n",
      "PAO_3_090\t3811623\t0\t3283804\t0.861524\n",
      "PAO_3_091\t3811623\t0\t2245164\t0.589031\n",
      "PAO_3_092\t3811623\t0\t2009741\t0.527266\n",
      "PAO_3_093\t3811623\t0\t1831885\t0.480605\n",
      "PAO_3_094\t3811623\t0\t1905196\t0.499839\n",
      "PAO_3_095\t3811623\t0\t1829971\t0.480103\n",
      "PAO_3_096\t3811623\t0\t2230337\t0.585141\n",
      "PAO_3_097\t3811623\t0\t2444782\t0.641402\n",
      "PAO_3_098\t3811623\t0\t2898953\t0.760556\n",
      "PAO_3_099\t3811623\t0\t2272376\t0.59617\n",
      "PAO_3_100\t3811623\t0\t2411863\t0.632765\n",
      "PAO_3_101\t3811623\t0\t2187202\t0.573824\n",
      "PAO_3_102\t3811623\t0\t2644236\t0.69373\n",
      "PAO_3_103\t3811623\t0\t2459519\t0.645268\n",
      "PAO_3_104\t3811623\t0\t2357137\t0.618408\n",
      "PAO_3_105\t3811623\t0\t2497432\t0.655215\n",
      "PAO_3_106\t3811623\t0\t3600436\t0.944594\n",
      "PAO_3_107\t3811623\t0\t2634279\t0.691117\n",
      "PAO_3_108\t3811623\t0\t1955517\t0.513041\n",
      "PAO_3_109\t3811623\t0\t2414084\t0.633348\n",
      "PAO_3_110\t3811623\t0\t2482863\t0.651393\n",
      "PAO_3_111\t3811623\t0\t2826229\t0.741477\n",
      "PAO_3_112\t3811623\t0\t2530562\t0.663907\n",
      "PAO_3_113\t3811623\t0\t3171460\t0.83205\n",
      "PAO_3_114\t3811623\t0\t3424727\t0.898496\n",
      "PAO_3_115\t3811623\t0\t2205263\t0.578563\n",
      "PAO_3_116\t3811623\t0\t1761716\t0.462196\n",
      "PAO_3_117\t3811623\t0\t3042652\t0.798256\n",
      "PAO_3_118\t3811623\t0\t2733371\t0.717115\n",
      "PAO_3_119\t3811623\t0\t2458674\t0.645046\n",
      "PAO_3_120\t3811623\t0\t2396670\t0.628779\n",
      "PAO_3_121\t3811623\t0\t2368102\t0.621284\n",
      "PAO_3_122\t3811623\t0\t3126278\t0.820196\n",
      "PAO_3_123\t3811623\t0\t1699233\t0.445803\n",
      "PAO_3_124\t3811623\t0\t2033172\t0.533414\n",
      "PAO_3_125\t3811623\t0\t1768022\t0.46385\n",
      "PAO_3_126\t3811623\t0\t2168824\t0.569003\n",
      "PAO_3_127\t3811623\t0\t2003056\t0.525513\n",
      "PAO_3_128\t3811623\t0\t2171212\t0.569629\n",
      "PAO_3_129\t3811623\t0\t2637836\t0.692051\n",
      "PAO_3_130\t3811623\t0\t3251709\t0.853104\n",
      "PAO_3_131\t3811623\t0\t2222138\t0.58299\n",
      "PAO_3_132\t3811623\t0\t2270327\t0.595633\n",
      "PAO_3_133\t3811623\t0\t2477709\t0.65004\n",
      "PAO_3_134\t3811623\t0\t2438353\t0.639715\n",
      "PAO_3_135\t3811623\t0\t2304265\t0.604536\n",
      "PAO_3_136\t3811623\t0\t2911978\t0.763973\n",
      "PAO_3_137\t3811623\t0\t2499838\t0.655846\n",
      "PAO_3_138\t3811623\t0\t2891653\t0.758641\n",
      "PAO_3_139\t3811623\t0\t2324776\t0.609918\n",
      "PAO_3_140\t3811623\t0\t2397995\t0.629127\n",
      "PAO_3_141\t3811623\t0\t2239060\t0.58743\n",
      "PAO_3_142\t3811623\t0\t3024288\t0.793438\n",
      "PAO_3_143\t3811623\t0\t2003909\t0.525736\n",
      "PAO_3_144\t3811623\t0\t2067818\t0.542503\n",
      "PAO_3_145\t3811623\t0\t2561086\t0.671915\n",
      "PAO_3_146\t3811623\t0\t2909195\t0.763243\n",
      "PAO_3_147\t3811623\t0\t2161843\t0.567171\n",
      "PAO_3_148\t3811623\t0\t1746976\t0.458329\n",
      "PAO_3_149\t3811623\t0\t2569148\t0.67403\n",
      "PAO_3_150\t3811623\t0\t2021042\t0.530231\n",
      "PAO_3_151\t3811623\t0\t1754416\t0.460281\n",
      "PAO_3_152\t3811623\t0\t1874590\t0.491809\n",
      "PAO_3_153\t3811623\t0\t2404255\t0.630769\n",
      "PAO_3_154\t3811623\t0\t3009595\t0.789584\n",
      "PAO_3_155\t3811623\t0\t2192880\t0.575314\n",
      "PAO_3_156\t3811623\t0\t1783359\t0.467874\n",
      "PAO_3_157\t3811623\t0\t2115001\t0.554882\n",
      "PAO_3_158\t3811623\t0\t2024703\t0.531192\n",
      "PAO_3_159\t3811623\t0\t1890327\t0.495938\n",
      "PAO_3_160\t3811623\t0\t2135799\t0.560338\n",
      "PAO_3_161\t3811623\t0\t2425403\t0.636318\n",
      "PAO_3_162\t3811623\t0\t3138404\t0.823377\n",
      "PAO_3_163\t3811623\t0\t2189539\t0.574437\n",
      "PAO_3_164\t3811623\t0\t1828142\t0.479623\n",
      "PAO_3_165\t3811623\t0\t2209384\t0.579644\n",
      "PAO_3_166\t3811623\t0\t2483788\t0.651635\n",
      "PAO_3_167\t3811623\t0\t2356727\t0.6183\n",
      "PAO_3_168\t3811623\t0\t2437557\t0.639506\n",
      "PAO_3_169\t3811623\t0\t2206682\t0.578935\n",
      "PAO_3_170\t3811623\t0\t3234681\t0.848636\n",
      "PAO_3_171\t3811623\t0\t2161872\t0.567179\n",
      "PAO_3_172\t3811623\t0\t2575367\t0.675662\n",
      "PAO_3_173\t3811623\t0\t1652803\t0.433622\n",
      "PAO_3_174\t3811623\t0\t1763497\t0.462663\n",
      "PAO_3_175\t3811623\t0\t2486038\t0.652226\n",
      "PAO_3_176\t3811623\t0\t2323324\t0.609537\n",
      "PAO_3_177\t3811623\t0\t2463303\t0.646261\n",
      "PAO_3_178\t3811623\t0\t3343910\t0.877293\n",
      "PAO_3_179\t3811623\t0\t1753147\t0.459948\n",
      "PAO_3_180\t3811623\t0\t2306523\t0.605129\n",
      "PAO_3_181\t3811623\t0\t2016671\t0.529085\n",
      "PAO_3_182\t3811623\t0\t1903714\t0.49945\n",
      "PAO_3_183\t3811623\t0\t2028929\t0.532301\n"
     ]
    }
   ],
   "source": [
    "!cat filt/missrate_mind_raw.imiss"
   ]
  },
  {
   "cell_type": "code",
   "execution_count": 17,
   "id": "8e1fa1ea-43d8-4b03-a570-1ce88e1358a9",
   "metadata": {},
   "outputs": [
    {
     "data": {
      "image/png": "[encoded data removed]",
      "text/plain": [
       "<Figure size 640x480 with 1 Axes>"
      ]
     },
     "metadata": {},
     "output_type": "display_data"
    }
   ],
   "source": [
    "import numpy as np\n",
    "import matplotlib.pyplot as plt\n",
    "\n",
    "# Загрузим данные из файла\n",
    "data = np.genfromtxt('filt/missrate_mind_raw.imiss', delimiter='\\t', skip_header=1, usecols=-1)\n",
    "\n",
    "# Построим гистограмму с 100 бинами\n",
    "plt.hist(data, bins=100, edgecolor='black')\n",
    "\n",
    "# Добавим подписи к осям и заголовок\n",
    "plt.xlabel('Доля пропущенных вариантов для каждого образца')\n",
    "plt.ylabel('Количество образцов')\n",
    "plt.axvline(x=0.7, color='red', linestyle='--', linewidth=2)\n",
    "#plt.title('Histogram of % Missing Data per Ind')\n",
    "\n",
    "# Отобразим гистограмму\n",
    "plt.show()"
   ]
  },
  {
   "cell_type": "markdown",
   "id": "96ed02a4-0926-459b-a079-f3a93ca7f19f",
   "metadata": {},
   "source": [
    "## missing individs for filt data (0.4 missing site)"
   ]
  },
  {
   "cell_type": "code",
   "execution_count": 19,
   "id": "0f7c84b3-2336-482c-b859-417448e87c7a",
   "metadata": {
    "scrolled": true
   },
   "outputs": [
    {
     "name": "stdout",
     "output_type": "stream",
     "text": [
      "\n",
      "VCFtools - 0.1.16\n",
      "(C) Adam Auton and Anthony Marcketta 2009\n",
      "\n",
      "Parameters as interpreted:\n",
      "\t--vcf filt/bread_snps_04geno.vcf\n",
      "\t--missing-indv\n",
      "\t--out filt/missrate_mind_04geno\n",
      "\n",
      "Warning: Expected at least 2 parts in INFO entry: ID=AF,Number=A,Type=Float,Description=\"Estimated allele frequency in the range (0,1]\">\n",
      "Warning: Expected at least 2 parts in INFO entry: ID=PRO,Number=1,Type=Float,Description=\"Reference allele observation count, with partial observations recorded fractionally\">\n",
      "Warning: Expected at least 2 parts in INFO entry: ID=PAO,Number=A,Type=Float,Description=\"Alternate allele observations, with partial observations recorded fractionally\">\n",
      "Warning: Expected at least 2 parts in INFO entry: ID=SRP,Number=1,Type=Float,Description=\"Strand balance probability for the reference allele: Phred-scaled upper-bounds estimate of the probability of observing the deviation between SRF and SRR given E(SRF/SRR) ~ 0.5, derived using Hoeffding's inequality\">\n",
      "Warning: Expected at least 2 parts in INFO entry: ID=SAP,Number=A,Type=Float,Description=\"Strand balance probability for the alternate allele: Phred-scaled upper-bounds estimate of the probability of observing the deviation between SAF and SAR given E(SAF/SAR) ~ 0.5, derived using Hoeffding's inequality\">\n",
      "Warning: Expected at least 2 parts in INFO entry: ID=AB,Number=A,Type=Float,Description=\"Allele balance at heterozygous sites: a number between 0 and 1 representing the ratio of reads showing the reference allele to all reads, considering only reads from individuals called as heterozygous\">\n",
      "Warning: Expected at least 2 parts in INFO entry: ID=ABP,Number=A,Type=Float,Description=\"Allele balance probability at heterozygous sites: Phred-scaled upper-bounds estimate of the probability of observing the deviation between ABR and ABA given E(ABR/ABA) ~ 0.5, derived using Hoeffding's inequality\">\n",
      "Warning: Expected at least 2 parts in INFO entry: ID=RPP,Number=A,Type=Float,Description=\"Read Placement Probability: Phred-scaled upper-bounds estimate of the probability of observing the deviation between RPL and RPR given E(RPL/RPR) ~ 0.5, derived using Hoeffding's inequality\">\n",
      "Warning: Expected at least 2 parts in INFO entry: ID=RPPR,Number=1,Type=Float,Description=\"Read Placement Probability for reference observations: Phred-scaled upper-bounds estimate of the probability of observing the deviation between RPL and RPR given E(RPL/RPR) ~ 0.5, derived using Hoeffding's inequality\">\n",
      "Warning: Expected at least 2 parts in INFO entry: ID=EPP,Number=A,Type=Float,Description=\"End Placement Probability: Phred-scaled upper-bounds estimate of the probability of observing the deviation between EL and ER given E(EL/ER) ~ 0.5, derived using Hoeffding's inequality\">\n",
      "Warning: Expected at least 2 parts in INFO entry: ID=EPPR,Number=1,Type=Float,Description=\"End Placement Probability for reference observations: Phred-scaled upper-bounds estimate of the probability of observing the deviation between EL and ER given E(EL/ER) ~ 0.5, derived using Hoeffding's inequality\">\n",
      "Warning: Expected at least 2 parts in INFO entry: ID=TYPE,Number=A,Type=String,Description=\"The type of allele, either snp, mnp, ins, del, or complex.\">\n",
      "Warning: Expected at least 2 parts in INFO entry: ID=TYPE,Number=A,Type=String,Description=\"The type of allele, either snp, mnp, ins, del, or complex.\">\n",
      "Warning: Expected at least 2 parts in INFO entry: ID=TYPE,Number=A,Type=String,Description=\"The type of allele, either snp, mnp, ins, del, or complex.\">\n",
      "Warning: Expected at least 2 parts in INFO entry: ID=TYPE,Number=A,Type=String,Description=\"The type of allele, either snp, mnp, ins, del, or complex.\">\n",
      "Warning: Expected at least 2 parts in INFO entry: ID=TYPE,Number=A,Type=String,Description=\"The type of allele, either snp, mnp, ins, del, or complex.\">\n",
      "Warning: Expected at least 2 parts in INFO entry: ID=CIGAR,Number=A,Type=String,Description=\"The extended CIGAR representation of each alternate allele, with the exception that '=' is replaced by 'M' to ease VCF parsing.  Note that INDEL alleles do not have the first matched base (which is provided by default, per the spec) referred to by the CIGAR.\">\n",
      "After filtering, kept 183 out of 183 Individuals\n",
      "Outputting Individual Missingness\n",
      "After filtering, kept 1196126 out of a possible 1196126 Sites\n",
      "Run Time = 48.00 seconds\n"
     ]
    }
   ],
   "source": [
    "!vcftools --vcf filt/bread_snps_04geno.vcf --missing-indv --out filt/missrate_mind_04geno"
   ]
  },
  {
   "cell_type": "code",
   "execution_count": 21,
   "id": "0d4152d6-5800-4e66-acf1-60c87067ab55",
   "metadata": {},
   "outputs": [
    {
     "data": {
      "image/png": "[encoded data removed]",
      "text/plain": [
       "<Figure size 640x480 with 1 Axes>"
      ]
     },
     "metadata": {},
     "output_type": "display_data"
    }
   ],
   "source": [
    "import numpy as np\n",
    "import matplotlib.pyplot as plt\n",
    "\n",
    "# Загрузим данные из файла\n",
    "data = np.genfromtxt('filt/missrate_mind_04geno.imiss', delimiter='\\t', skip_header=1, usecols=-1)\n",
    "\n",
    "# Построим гистограмму с 100 бинами\n",
    "plt.hist(data, bins=100, edgecolor='black')\n",
    "\n",
    "# Добавим подписи к осям и заголовок\n",
    "plt.xlabel('Доля пропущенных вариантов для каждого образца')\n",
    "plt.ylabel('Количество образцов')\n",
    "plt.axvline(x=0.5, color='red', linestyle='--', linewidth=2)\n",
    "#plt.title('Histogram of % Missing Data per Ind')\n",
    "\n",
    "# Отобразим гистограмму\n",
    "plt.show()"
   ]
  },
  {
   "cell_type": "code",
   "execution_count": 23,
   "id": "4ce126dc-c25a-45dd-b95c-df31026f4dfd",
   "metadata": {
    "scrolled": true
   },
   "outputs": [
    {
     "name": "stdout",
     "output_type": "stream",
     "text": [
      "PLINK v2.00a5.12LM 64-bit Intel (25 Jun 2024)  www.cog-genomics.org/plink/2.0/\n",
      "(C) 2005-2024 Shaun Purcell, Christopher Chang   GNU General Public License v3\n",
      "Logging to filt/bread_snps_04geno05mind.log.\n",
      "Options in effect:\n",
      "  --allow-extra-chr\n",
      "  --export vcf\n",
      "  --mind 0.5\n",
      "  --out filt/bread_snps_04geno05mind\n",
      "  --vcf filt/bread_snps_04geno.vcf\n",
      "\n",
      "Start time: Wed Oct 23 11:30:44 2024\n",
      "64239 MiB RAM detected, ~49661 available; reserving 32119 MiB for main\n",
      "workspace.\n",
      "Using up to 24 threads (change this with --threads).\n",
      "--vcf: 1196126 variants scanned.\n",
      "--vcf: filt/bread_snps_04geno05mind-temporary.pgen +\n",
      "filt/bread_snps_04geno05mind-temporary.pvar.zst +\n",
      "filt/bread_snps_04geno05mind-temporary.psam written.\n",
      "183 samples (0 females, 0 males, 183 ambiguous; 183 founders) loaded from\n",
      "filt/bread_snps_04geno05mind-temporary.psam.\n",
      "1196126 variants loaded from filt/bread_snps_04geno05mind-temporary.pvar.zst.\n",
      "Note: No phenotype data present.\n",
      "Calculating sample missingness rates... 1016212732384349546065717682879398done.\n",
      "31 samples removed due to missing genotype data (--mind).\n",
      "IDs written to filt/bread_snps_04geno05mind.mindrem.id .\n",
      "152 samples (0 females, 0 males, 152 ambiguous; 152 founders) remaining after\n",
      "main filters.\n",
      "--export vcf to filt/bread_snps_04geno05mind.vcf ... 10101111121213131414151516161717181819192020212122222323242425252626272728282929303031313232333334343535363637373838393940404141424243434444454546464747484849505051515252535354545555565657575858595960606161626263636464656566666767686869697070717172727373747475757676777778787979808081818282838384848585868687878888898990909191929293939494959596969797989899done.\n",
      "End time: Wed Oct 23 11:30:52 2024\n"
     ]
    }
   ],
   "source": [
    "!plink2 --vcf filt/bread_snps_04geno.vcf \\\n",
    "--out filt/bread_snps_04geno05mind --allow-extra-chr --mind 0.5 --export vcf"
   ]
  },
  {
   "cell_type": "code",
   "execution_count": 24,
   "id": "99bdcf3d-1371-4b03-9eff-c1f59682ca8b",
   "metadata": {},
   "outputs": [],
   "source": [
    "!sed -i 's/^##fileformat=VCFv4.3/##fileformat=VCFv4.2/' filt/bread_snps_04geno05mind.vcf"
   ]
  },
  {
   "cell_type": "code",
   "execution_count": 25,
   "id": "7ebe8453-8931-4816-a75c-7eb5b817d3d9",
   "metadata": {
    "scrolled": true
   },
   "outputs": [
    {
     "name": "stdout",
     "output_type": "stream",
     "text": [
      "\n",
      "VCFtools - 0.1.16\n",
      "(C) Adam Auton and Anthony Marcketta 2009\n",
      "\n",
      "Parameters as interpreted:\n",
      "\t--vcf filt/bread_snps_04geno05mind.vcf\n",
      "\t--freq\n",
      "\t--out filt/bread_snps_04geno05mind_freq\n",
      "\n",
      "Warning: Expected at least 2 parts in INFO entry: ID=AF,Number=A,Type=Float,Description=\"Estimated allele frequency in the range (0,1]\">\n",
      "Warning: Expected at least 2 parts in INFO entry: ID=PRO,Number=1,Type=Float,Description=\"Reference allele observation count, with partial observations recorded fractionally\">\n",
      "Warning: Expected at least 2 parts in INFO entry: ID=PAO,Number=A,Type=Float,Description=\"Alternate allele observations, with partial observations recorded fractionally\">\n",
      "Warning: Expected at least 2 parts in INFO entry: ID=SRP,Number=1,Type=Float,Description=\"Strand balance probability for the reference allele: Phred-scaled upper-bounds estimate of the probability of observing the deviation between SRF and SRR given E(SRF/SRR) ~ 0.5, derived using Hoeffding's inequality\">\n",
      "Warning: Expected at least 2 parts in INFO entry: ID=SAP,Number=A,Type=Float,Description=\"Strand balance probability for the alternate allele: Phred-scaled upper-bounds estimate of the probability of observing the deviation between SAF and SAR given E(SAF/SAR) ~ 0.5, derived using Hoeffding's inequality\">\n",
      "Warning: Expected at least 2 parts in INFO entry: ID=AB,Number=A,Type=Float,Description=\"Allele balance at heterozygous sites: a number between 0 and 1 representing the ratio of reads showing the reference allele to all reads, considering only reads from individuals called as heterozygous\">\n",
      "Warning: Expected at least 2 parts in INFO entry: ID=ABP,Number=A,Type=Float,Description=\"Allele balance probability at heterozygous sites: Phred-scaled upper-bounds estimate of the probability of observing the deviation between ABR and ABA given E(ABR/ABA) ~ 0.5, derived using Hoeffding's inequality\">\n",
      "Warning: Expected at least 2 parts in INFO entry: ID=RPP,Number=A,Type=Float,Description=\"Read Placement Probability: Phred-scaled upper-bounds estimate of the probability of observing the deviation between RPL and RPR given E(RPL/RPR) ~ 0.5, derived using Hoeffding's inequality\">\n",
      "Warning: Expected at least 2 parts in INFO entry: ID=RPPR,Number=1,Type=Float,Description=\"Read Placement Probability for reference observations: Phred-scaled upper-bounds estimate of the probability of observing the deviation between RPL and RPR given E(RPL/RPR) ~ 0.5, derived using Hoeffding's inequality\">\n",
      "Warning: Expected at least 2 parts in INFO entry: ID=EPP,Number=A,Type=Float,Description=\"End Placement Probability: Phred-scaled upper-bounds estimate of the probability of observing the deviation between EL and ER given E(EL/ER) ~ 0.5, derived using Hoeffding's inequality\">\n",
      "Warning: Expected at least 2 parts in INFO entry: ID=EPPR,Number=1,Type=Float,Description=\"End Placement Probability for reference observations: Phred-scaled upper-bounds estimate of the probability of observing the deviation between EL and ER given E(EL/ER) ~ 0.5, derived using Hoeffding's inequality\">\n",
      "Warning: Expected at least 2 parts in INFO entry: ID=TYPE,Number=A,Type=String,Description=\"The type of allele, either snp, mnp, ins, del, or complex.\">\n",
      "Warning: Expected at least 2 parts in INFO entry: ID=TYPE,Number=A,Type=String,Description=\"The type of allele, either snp, mnp, ins, del, or complex.\">\n",
      "Warning: Expected at least 2 parts in INFO entry: ID=TYPE,Number=A,Type=String,Description=\"The type of allele, either snp, mnp, ins, del, or complex.\">\n",
      "Warning: Expected at least 2 parts in INFO entry: ID=TYPE,Number=A,Type=String,Description=\"The type of allele, either snp, mnp, ins, del, or complex.\">\n",
      "Warning: Expected at least 2 parts in INFO entry: ID=TYPE,Number=A,Type=String,Description=\"The type of allele, either snp, mnp, ins, del, or complex.\">\n",
      "Warning: Expected at least 2 parts in INFO entry: ID=CIGAR,Number=A,Type=String,Description=\"The extended CIGAR representation of each alternate allele, with the exception that '=' is replaced by 'M' to ease VCF parsing.  Note that INDEL alleles do not have the first matched base (which is provided by default, per the spec) referred to by the CIGAR.\">\n",
      "After filtering, kept 152 out of 152 Individuals\n",
      "Outputting Frequency Statistics...\n",
      "After filtering, kept 1196126 out of a possible 1196126 Sites\n",
      "Run Time = 45.00 seconds\n"
     ]
    }
   ],
   "source": [
    "!vcftools --vcf filt/bread_snps_04geno05mind.vcf --freq \\\n",
    "--out filt/bread_snps_04geno05mind_freq"
   ]
  },
  {
   "cell_type": "code",
   "execution_count": 27,
   "id": "823463c5-5761-4aab-aae5-3816e7691aeb",
   "metadata": {},
   "outputs": [],
   "source": [
    "import csv\n",
    "\n",
    "# Функция для вычисления MAF с учетом двух столбцов\n",
    "def calculate_maf(freq_str_1, freq_str_2):\n",
    "    # Объединяем частоты из двух столбцов\n",
    "    alleles_1 = freq_str_1.split()  # Разделяем строку по пробелам\n",
    "    alleles_2 = freq_str_2.split()  # Разделяем строку по пробелам\n",
    "    # Извлекаем частоты из каждого столбца\n",
    "    frequencies = [float(allele.split(':')[1]) for allele in alleles_1 + alleles_2]\n",
    "    # Поиск минорной частоты\n",
    "    maf = min(frequencies)\n",
    "    \n",
    "    return maf\n",
    "\n",
    "# Открытие файла с частотами аллелей\n",
    "with open('filt/bread_snps_04geno05mind_freq.frq', 'r') as infile, \\\n",
    "    open('filt/bread_snps_04geno05mind_freq.maf', 'w', newline='') as outfile:\n",
    "    # Чтение заголовков (включая столбец None)\n",
    "    reader = csv.DictReader(infile, delimiter='\\t')\n",
    "    \n",
    "    # Переопределяем заголовки, добавляя имя для шестого столбца\n",
    "    fieldnames = reader.fieldnames\n",
    "    fieldnames.append('ALLELE_FREQ_2')  # Назначаем имя шестому столбцу\n",
    "    \n",
    "    # Переоткрываем файл с новыми заголовками\n",
    "    infile.seek(0)  # Возвращаем указатель в начало файла\n",
    "    reader = csv.DictReader(infile, delimiter='\\t', fieldnames=fieldnames)\n",
    "    \n",
    "    # Пропуск заголовка, если переопределяем\n",
    "    next(reader)\n",
    "    \n",
    "    # Запись заголовка для выходного файла\n",
    "    writer = csv.writer(outfile)\n",
    "    writer.writerow(['CHROM', 'POS', 'MAF'])\n",
    "\n",
    "    for row in reader:\n",
    "        chrom = row['CHROM']\n",
    "        pos = row['POS']\n",
    "        freq_str_1 = row['{ALLELE:FREQ}']  # Частоты аллелей из 5-го столбца\n",
    "        freq_str_2 = row['ALLELE_FREQ_2']  # Частоты аллелей из переименованного столбца\n",
    "        \n",
    "        #\n",
    "  \n",
    "        # Вычисление MAF\n",
    "        maf = calculate_maf(freq_str_1, freq_str_2)\n",
    "        \n",
    "        # Запись результатов в выходной файл\n",
    "        writer.writerow([chrom, pos, maf])\n"
   ]
  },
  {
   "cell_type": "code",
   "execution_count": 28,
   "id": "7e021650-32d6-424b-b53a-4ed5cf85cd56",
   "metadata": {},
   "outputs": [
    {
     "name": "stdout",
     "output_type": "stream",
     "text": [
      "CHROM,POS,MAF\n",
      "Chr1A,701193,0.0\n",
      "Chr1A,701197,0.0133929\n",
      "Chr1A,701218,0.0\n",
      "Chr1A,701233,0.0\n",
      "Chr1A,701246,0.0\n",
      "Chr1A,701295,0.00446429\n",
      "Chr1A,701315,0.0\n",
      "Chr1A,701321,0.00446429\n",
      "Chr1A,701327,0.00446429\n"
     ]
    }
   ],
   "source": [
    "!head filt/bread_snps_04geno05mind_freq.maf"
   ]
  },
  {
   "cell_type": "code",
   "execution_count": 29,
   "id": "7f23a5db-584b-4fcc-b29c-910b968d26b1",
   "metadata": {},
   "outputs": [
    {
     "data": {
      "image/png": "[encoded data removed]",
      "text/plain": [
       "<Figure size 900x800 with 1 Axes>"
      ]
     },
     "metadata": {},
     "output_type": "display_data"
    }
   ],
   "source": [
    "import numpy as np\n",
    "import matplotlib.pyplot as plt\n",
    "\n",
    "# Загрузим данные из файла\n",
    "data = np.genfromtxt('filt/bread_snps_04geno05mind_freq.maf', delimiter=',', skip_header=1, usecols=-1)\n",
    "plt.figure(figsize=(9, 8))\n",
    "# Построим гистограмму с 100 бинами\n",
    "plt.hist(data, bins=100, edgecolor='black')\n",
    "\n",
    "# Добавим подписи к осям и заголовок\n",
    "plt.xlabel('MAF')\n",
    "plt.ylabel('Number of Var')\n",
    "plt.title('Histogram of MAF per Var')\n",
    "xmin, xmax = plt.xlim()\n",
    "xticks = np.linspace(0, xmax, num=9)  # Здесь num определяет количество меток на оси X\n",
    "\n",
    "# Зададим метки на оси X\n",
    "plt.xticks(xticks)  # Вы можете изменить угол вращения меток, если это необходимо\n",
    "# Отобразим гистограмму\n",
    "plt.show()"
   ]
  },
  {
   "cell_type": "code",
   "execution_count": 31,
   "id": "1680f223-90ed-42b5-86af-b6a9db675c25",
   "metadata": {
    "scrolled": true
   },
   "outputs": [
    {
     "name": "stdout",
     "output_type": "stream",
     "text": [
      "\n",
      "VCFtools - 0.1.16\n",
      "(C) Adam Auton and Anthony Marcketta 2009\n",
      "\n",
      "Parameters as interpreted:\n",
      "\t--vcf filt/bread_snps_04geno05mind.vcf\n",
      "\t--recode-INFO-all\n",
      "\t--maf 0.05\n",
      "\t--out filt/bread_snps_04geno05mind_freq_maf005\n",
      "\t--recode\n",
      "\n",
      "Warning: Expected at least 2 parts in INFO entry: ID=AF,Number=A,Type=Float,Description=\"Estimated allele frequency in the range (0,1]\">\n",
      "Warning: Expected at least 2 parts in INFO entry: ID=PRO,Number=1,Type=Float,Description=\"Reference allele observation count, with partial observations recorded fractionally\">\n",
      "Warning: Expected at least 2 parts in INFO entry: ID=PAO,Number=A,Type=Float,Description=\"Alternate allele observations, with partial observations recorded fractionally\">\n",
      "Warning: Expected at least 2 parts in INFO entry: ID=SRP,Number=1,Type=Float,Description=\"Strand balance probability for the reference allele: Phred-scaled upper-bounds estimate of the probability of observing the deviation between SRF and SRR given E(SRF/SRR) ~ 0.5, derived using Hoeffding's inequality\">\n",
      "Warning: Expected at least 2 parts in INFO entry: ID=SAP,Number=A,Type=Float,Description=\"Strand balance probability for the alternate allele: Phred-scaled upper-bounds estimate of the probability of observing the deviation between SAF and SAR given E(SAF/SAR) ~ 0.5, derived using Hoeffding's inequality\">\n",
      "Warning: Expected at least 2 parts in INFO entry: ID=AB,Number=A,Type=Float,Description=\"Allele balance at heterozygous sites: a number between 0 and 1 representing the ratio of reads showing the reference allele to all reads, considering only reads from individuals called as heterozygous\">\n",
      "Warning: Expected at least 2 parts in INFO entry: ID=ABP,Number=A,Type=Float,Description=\"Allele balance probability at heterozygous sites: Phred-scaled upper-bounds estimate of the probability of observing the deviation between ABR and ABA given E(ABR/ABA) ~ 0.5, derived using Hoeffding's inequality\">\n",
      "Warning: Expected at least 2 parts in INFO entry: ID=RPP,Number=A,Type=Float,Description=\"Read Placement Probability: Phred-scaled upper-bounds estimate of the probability of observing the deviation between RPL and RPR given E(RPL/RPR) ~ 0.5, derived using Hoeffding's inequality\">\n",
      "Warning: Expected at least 2 parts in INFO entry: ID=RPPR,Number=1,Type=Float,Description=\"Read Placement Probability for reference observations: Phred-scaled upper-bounds estimate of the probability of observing the deviation between RPL and RPR given E(RPL/RPR) ~ 0.5, derived using Hoeffding's inequality\">\n",
      "Warning: Expected at least 2 parts in INFO entry: ID=EPP,Number=A,Type=Float,Description=\"End Placement Probability: Phred-scaled upper-bounds estimate of the probability of observing the deviation between EL and ER given E(EL/ER) ~ 0.5, derived using Hoeffding's inequality\">\n",
      "Warning: Expected at least 2 parts in INFO entry: ID=EPPR,Number=1,Type=Float,Description=\"End Placement Probability for reference observations: Phred-scaled upper-bounds estimate of the probability of observing the deviation between EL and ER given E(EL/ER) ~ 0.5, derived using Hoeffding's inequality\">\n",
      "Warning: Expected at least 2 parts in INFO entry: ID=TYPE,Number=A,Type=String,Description=\"The type of allele, either snp, mnp, ins, del, or complex.\">\n",
      "Warning: Expected at least 2 parts in INFO entry: ID=TYPE,Number=A,Type=String,Description=\"The type of allele, either snp, mnp, ins, del, or complex.\">\n",
      "Warning: Expected at least 2 parts in INFO entry: ID=TYPE,Number=A,Type=String,Description=\"The type of allele, either snp, mnp, ins, del, or complex.\">\n",
      "Warning: Expected at least 2 parts in INFO entry: ID=TYPE,Number=A,Type=String,Description=\"The type of allele, either snp, mnp, ins, del, or complex.\">\n",
      "Warning: Expected at least 2 parts in INFO entry: ID=TYPE,Number=A,Type=String,Description=\"The type of allele, either snp, mnp, ins, del, or complex.\">\n",
      "Warning: Expected at least 2 parts in INFO entry: ID=CIGAR,Number=A,Type=String,Description=\"The extended CIGAR representation of each alternate allele, with the exception that '=' is replaced by 'M' to ease VCF parsing.  Note that INDEL alleles do not have the first matched base (which is provided by default, per the spec) referred to by the CIGAR.\">\n",
      "After filtering, kept 152 out of 152 Individuals\n",
      "Outputting VCF file...\n",
      "After filtering, kept 59883 out of a possible 1196126 Sites\n",
      "Run Time = 50.00 seconds\n"
     ]
    }
   ],
   "source": [
    "!vcftools --vcf filt/bread_snps_04geno05mind.vcf --maf 0.05 \\\n",
    "--recode --recode-INFO-all --out filt/bread_snps_04geno05mind_freq_maf005"
   ]
  },
  {
   "cell_type": "code",
   "execution_count": 32,
   "id": "b708e927-c9cc-4b52-bdce-adc52e489e19",
   "metadata": {
    "scrolled": true
   },
   "outputs": [
    {
     "name": "stdout",
     "output_type": "stream",
     "text": [
      "PLINK v2.00a5.12LM 64-bit Intel (25 Jun 2024)  www.cog-genomics.org/plink/2.0/\n",
      "(C) 2005-2024 Shaun Purcell, Christopher Chang   GNU General Public License v3\n",
      "Logging to filt/snp_geno.log.\n",
      "Options in effect:\n",
      "  --allow-extra-chr\n",
      "  --geno-counts\n",
      "  --out filt/snp_geno\n",
      "  --vcf filt/bread_snps_04geno05mind_freq_maf005.recode.vcf\n",
      "\n",
      "Start time: Wed Oct 23 11:36:42 2024\n",
      "64239 MiB RAM detected, ~49636 available; reserving 32119 MiB for main\n",
      "workspace.\n",
      "Using up to 24 threads (change this with --threads).\n",
      "--vcf: 59883 variants scanned.\n",
      "--vcf: filt/snp_geno-temporary.pgen + filt/snp_geno-temporary.pvar.zst +\n",
      "filt/snp_geno-temporary.psam written.\n",
      "152 samples (0 females, 0 males, 152 ambiguous; 152 founders) loaded from\n",
      "filt/snp_geno-temporary.psam.\n",
      "59883 variants loaded from filt/snp_geno-temporary.pvar.zst.\n",
      "Note: No phenotype data present.\n",
      "Calculating allele frequencies... done.\n",
      "--geno-counts: Genotype counts written to filt/snp_geno.gcount .222232324242525262627272828292930303131323233333434353536363737383839394040414142424343444445454646474748484949505051515252535354545555565657575858595960606161626263636464656566666767686869697070717172727373747475757676777778787979808081818282838384848585868687878888898990909191929293939494959596969797989899%\n",
      "End time: Wed Oct 23 11:36:42 2024\n"
     ]
    }
   ],
   "source": [
    "!plink2 --vcf filt/bread_snps_04geno05mind_freq_maf005.recode.vcf --allow-extra-chr --geno-counts \\\n",
    "--out filt/snp_geno"
   ]
  },
  {
   "cell_type": "code",
   "execution_count": 33,
   "id": "75944c5d-d875-4788-9eaf-fbef6184afcb",
   "metadata": {},
   "outputs": [
    {
     "data": {
      "image/png": "[encoded data removed]",
      "text/plain": [
       "<Figure size 640x480 with 1 Axes>"
      ]
     },
     "metadata": {},
     "output_type": "display_data"
    }
   ],
   "source": [
    "import matplotlib.pyplot as plt\n",
    "\n",
    "het_counts = []\n",
    "with open('filt/snp_geno.gcount') as inpf:\n",
    "    for l in inpf.readlines():\n",
    "        l = l.strip()\n",
    "        if l.startswith('#'):\n",
    "            continue\n",
    "        else:\n",
    "            het_counts.append(int(l.split('\\t')[5]))\n",
    "\n",
    "plt.hist([i for i in het_counts if i < 50], bins=100);"
   ]
  },
  {
   "cell_type": "code",
   "execution_count": 34,
   "id": "3045a71c-4041-484d-8070-434f9bdddc67",
   "metadata": {},
   "outputs": [
    {
     "name": "stdout",
     "output_type": "stream",
     "text": [
      "#CHROM\tID\tREF\tALT\tHOM_REF_CT\tHET_REF_ALT_CTS\tTWO_ALT_GENO_CTS\tHAP_REF_CT\tHAP_ALT_CTS\tMISSING_CT\n",
      "Chr1A\t.\tG\tT\t47\t3\t64\t0\t0\t38\n",
      "Chr1A\t.\tA\tG\t86\t1\t27\t0\t0\t38\n",
      "Chr1A\t.\tA\tG\t47\t3\t64\t0\t0\t38\n",
      "Chr1A\t.\tC\tG\t86\t1\t27\t0\t0\t38\n",
      "Chr1A\t.\tC\tG\t103\t0\t11\t0\t0\t38\n",
      "Chr1A\t.\tG\tA\t95\t2\t34\t0\t0\t21\n",
      "Chr1A\t.\tA\tG\t110\t4\t27\t0\t0\t11\n",
      "Chr1A\t.\tC\tT\t97\t3\t31\t0\t0\t21\n",
      "Chr1A\t.\tT\tA\t99\t4\t28\t0\t0\t21\n"
     ]
    }
   ],
   "source": [
    "!head filt/snp_geno.gcount"
   ]
  },
  {
   "cell_type": "code",
   "execution_count": 42,
   "id": "09afc5e8-953b-48da-a7d9-ef7d22a5c93d",
   "metadata": {},
   "outputs": [
    {
     "name": "stdout",
     "output_type": "stream",
     "text": [
      "21188\n"
     ]
    }
   ],
   "source": [
    "!awk -v FS='\\t' '$0 !~ /#/ && $5 > 0 && ($6 / ($5 + $6 + $7)) <= 0.05 0 && $7 > 0 {print $0}' filt/snp_geno.gcount | wc -l"
   ]
  },
  {
   "cell_type": "code",
   "execution_count": 43,
   "id": "915d6cd5-d84c-474c-aed1-7d9357856eed",
   "metadata": {},
   "outputs": [],
   "source": [
    "!awk -v FS='\\t' '$0 !~ /#/ && $5 > 0 && ($6 / ($5 + $6 + $7)) <= 0.05 0 && $7 > 0 {print $0}' \\\n",
    "filt/snp_geno.gcount > filt/lowhet"
   ]
  },
  {
   "cell_type": "code",
   "execution_count": 44,
   "id": "db870968-2817-4024-8972-d1b1dd0f5d8c",
   "metadata": {},
   "outputs": [
    {
     "name": "stdout",
     "output_type": "stream",
     "text": [
      "PLINK v2.00a5.12LM 64-bit Intel (25 Jun 2024)  www.cog-genomics.org/plink/2.0/\n",
      "(C) 2005-2024 Shaun Purcell, Christopher Chang   GNU General Public License v3\n",
      "Logging to filt/bread_lowhet.log.\n",
      "Options in effect:\n",
      "  --allow-extra-chr\n",
      "  --export vcf\n",
      "  --extract filt/lowhet\n",
      "  --out filt/bread_lowhet\n",
      "  --vcf filt/bread_snps_04geno05mind_freq_maf005.recode.vcf\n",
      "\n",
      "Start time: Wed Oct 23 11:44:26 2024\n",
      "64239 MiB RAM detected, ~49642 available; reserving 32119 MiB for main\n",
      "workspace.\n",
      "Using up to 24 threads (change this with --threads).\n",
      "--vcf: 59883 variants scanned.\n",
      "--vcf: filt/bread_lowhet-temporary.pgen + filt/bread_lowhet-temporary.pvar.zst\n",
      "+ filt/bread_lowhet-temporary.psam written.\n",
      "152 samples (0 females, 0 males, 152 ambiguous; 152 founders) loaded from\n",
      "filt/bread_lowhet-temporary.psam.\n",
      "59883 variants loaded from filt/bread_lowhet-temporary.pvar.zst.\n",
      "Note: No phenotype data present.\n",
      "--extract: 59883 variants remaining.\n",
      "59883 variants remaining after main filters.\n",
      "--export vcf to filt/bread_lowhet.vcf ... 1010111112121313141415151616171718181919202021212222232324242525262627272828292930303131323233333434353536363737383839394040414142424343444445454646474748484949505051515252535354545555565657575858595960606161626263636464656566666767686869697070717172727373747475757676777778787979808081818282838384848585868687878888898990909191929293939494959596969797989899done.\n",
      "End time: Wed Oct 23 11:44:26 2024\n"
     ]
    }
   ],
   "source": [
    "!plink2 --vcf filt/bread_snps_04geno05mind_freq_maf005.recode.vcf --allow-extra-chr \\\n",
    "--extract filt/lowhet --export vcf --out filt/bread_lowhet"
   ]
  },
  {
   "cell_type": "code",
   "execution_count": 101,
   "id": "b27becaf-90f7-41be-8687-f332b77933b2",
   "metadata": {},
   "outputs": [],
   "source": [
    "!sed -i 's/^##fileformat=VCFv4.3/##fileformat=VCFv4.2/' ../filtering_with_bad/GBS_YGS_lowhet.vcf"
   ]
  },
  {
   "cell_type": "code",
   "execution_count": 46,
   "id": "634730c2-5c0d-4edc-8f53-28cd52197919",
   "metadata": {},
   "outputs": [],
   "source": [
    "!bcftools annotate --set-id +'%CHROM\\_%POS\\_%REF\\_%FIRST_ALT' filt/bread_lowhet.vcf > filt/bread_lowhet_id.vcf"
   ]
  },
  {
   "cell_type": "code",
   "execution_count": 47,
   "id": "32c77130-d842-40d5-b190-fc3d8c10d699",
   "metadata": {},
   "outputs": [
    {
     "name": "stdout",
     "output_type": "stream",
     "text": [
      "PLINK v2.00a5.12LM 64-bit Intel (25 Jun 2024)  www.cog-genomics.org/plink/2.0/\n",
      "(C) 2005-2024 Shaun Purcell, Christopher Chang   GNU General Public License v3\n",
      "Logging to filt/snp_pairwise.log.\n",
      "Options in effect:\n",
      "  --allow-extra-chr\n",
      "  --indep-pairwise 50 5 0.2\n",
      "  --out filt/snp_pairwise\n",
      "  --vcf filt/bread_lowhet_id.vcf\n",
      "\n",
      "Start time: Wed Oct 23 11:52:59 2024\n",
      "64239 MiB RAM detected, ~49621 available; reserving 32119 MiB for main\n",
      "workspace.\n",
      "Using up to 24 threads (change this with --threads).\n",
      "--vcf: 59883 variants scanned.\n",
      "--vcf: filt/snp_pairwise-temporary.pgen + filt/snp_pairwise-temporary.pvar.zst\n",
      "+ filt/snp_pairwise-temporary.psam written.\n",
      "152 samples (0 females, 0 males, 152 ambiguous; 152 founders) loaded from\n",
      "filt/snp_pairwise-temporary.psam.\n",
      "59883 variants loaded from filt/snp_pairwise-temporary.pvar.zst.\n",
      "Note: No phenotype data present.\n",
      "Calculating allele frequencies... done.\n",
      "--indep-pairwise (19 compute threads): 5022495/59883 variants removed.\n",
      "Variant lists written to filt/snp_pairwise.prune.in and\n",
      "filt/snp_pairwise.prune.out .\n",
      "End time: Wed Oct 23 11:53:00 2024\n"
     ]
    }
   ],
   "source": [
    "!plink2 --vcf filt/bread_lowhet_id.vcf --allow-extra-chr --indep-pairwise 50 5 0.2 --out filt/snp_pairwise"
   ]
  },
  {
   "cell_type": "code",
   "execution_count": 48,
   "id": "73eba57d-fcc0-43f3-b748-23a43fdbdad7",
   "metadata": {},
   "outputs": [
    {
     "name": "stdout",
     "output_type": "stream",
     "text": [
      "PLINK v2.00a5.12LM 64-bit Intel (25 Jun 2024)  www.cog-genomics.org/plink/2.0/\n",
      "(C) 2005-2024 Shaun Purcell, Christopher Chang   GNU General Public License v3\n",
      "Logging to filt/snp_het_LD_thin.log.\n",
      "Options in effect:\n",
      "  --allow-extra-chr\n",
      "  --export vcf\n",
      "  --extract filt/snp_pairwise.prune.in\n",
      "  --out filt/snp_het_LD_thin\n",
      "  --vcf filt/bread_lowhet_id.vcf\n",
      "\n",
      "Start time: Wed Oct 23 11:53:47 2024\n",
      "64239 MiB RAM detected, ~49620 available; reserving 32119 MiB for main\n",
      "workspace.\n",
      "Using up to 24 threads (change this with --threads).\n",
      "--vcf: 59883 variants scanned.\n",
      "--vcf: filt/snp_het_LD_thin-temporary.pgen +\n",
      "filt/snp_het_LD_thin-temporary.pvar.zst + filt/snp_het_LD_thin-temporary.psam\n",
      "written.\n",
      "152 samples (0 females, 0 males, 152 ambiguous; 152 founders) loaded from\n",
      "filt/snp_het_LD_thin-temporary.psam.\n",
      "59883 variants loaded from filt/snp_het_LD_thin-temporary.pvar.zst.\n",
      "Note: No phenotype data present.\n",
      "--extract: 37388 variants remaining.\n",
      "37388 variants remaining after main filters.\n",
      "--export vcf to filt/snp_het_LD_thin.vcf ... 1010111112121313141415151616171718181919202021212222232324252526262727282829293030313132323333343435353636373738383939404041414242434344444545464647474848495050515152525353545455555656575758585959606061616262636364646565666667676868696970707171727273737475757676777778787979808081818282838384848585868687878888898990909191929293939494959596969797989899done.\n",
      "End time: Wed Oct 23 11:53:47 2024\n"
     ]
    }
   ],
   "source": [
    "!plink2 --vcf filt/bread_lowhet_id.vcf --allow-extra-chr \\\n",
    "--extract filt/snp_pairwise.prune.in --export vcf --out filt/snp_het_LD_thin"
   ]
  },
  {
   "cell_type": "code",
   "execution_count": null,
   "id": "f11d6d50-9b7a-4d8e-91dc-503ab086491d",
   "metadata": {},
   "outputs": [],
   "source": []
  }
 ],
 "metadata": {
  "kernelspec": {
   "display_name": "Python [conda env:pandora]",
   "language": "python",
   "name": "conda-env-pandora-py"
  },
  "language_info": {
   "codemirror_mode": {
    "name": "ipython",
    "version": 3
   },
   "file_extension": ".py",
   "mimetype": "text/x-python",
   "name": "python",
   "nbconvert_exporter": "python",
   "pygments_lexer": "ipython3",
   "version": "3.12.5"
  }
 },
 "nbformat": 4,
 "nbformat_minor": 5
}
